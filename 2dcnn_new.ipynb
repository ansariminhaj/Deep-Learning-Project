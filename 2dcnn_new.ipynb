{
 "cells": [
  {
   "cell_type": "code",
   "execution_count": 62,
   "id": "pacific-dover",
   "metadata": {},
   "outputs": [],
   "source": [
    "import SimpleITK as sitk\n",
    "import os\n",
    "import matplotlib.pyplot as plt\n",
    "import cv2\n",
    "import numpy as np\n",
    "from operator import add\n",
    "from copy import deepcopy\n",
    "from copy import deepcopy\n",
    "import random\n",
    "import tensorflow as tf \n",
    "from scipy.ndimage import rotate\n",
    "from tensorflow.keras.preprocessing.image import ImageDataGenerator\n",
    "from tensorflow.keras.preprocessing.image import load_img\n",
    "from tensorflow.keras.preprocessing.image import img_to_array\n",
    "from tensorflow.python.client import device_lib"
   ]
  },
  {
   "cell_type": "code",
   "execution_count": 27,
   "id": "effective-symbol",
   "metadata": {
    "jupyter": {
     "source_hidden": true
    }
   },
   "outputs": [],
   "source": [
    "import shutil\n",
    "import random\n",
    "\n",
    "def move_files(source_dir, dst_dir, num):   \n",
    "    index_list=[]\n",
    "    count=0\n",
    "    for root, dirs, files in os.walk(source_dir):\n",
    "        while count<=num:\n",
    "            index=random.randint(0,len(files)-1)\n",
    "            if index not in index_list:\n",
    "                index_list.append(index)\n",
    "                img=cv2.imread(source_dir+\"/\"+files[index])\n",
    "                shutil.move(source_dir+\"/\"+files[index], dst_dir)\n",
    "                count+=1\n",
    "            else:\n",
    "                continue\n",
    "                \n",
    "\n",
    "move_files('new_data/images/datagen/train/yes','new_data/images/datagen/test/yes', 30)"
   ]
  },
  {
   "cell_type": "code",
   "execution_count": 2,
   "id": "previous-percentage",
   "metadata": {},
   "outputs": [],
   "source": [
    "gpus = tf.config.experimental.list_physical_devices('GPU')\n",
    "if gpus:\n",
    "    try:\n",
    "        for gpu in gpus:\n",
    "            tf.config.experimental.set_memory_growth(gpu, True)\n",
    "\n",
    "    except RuntimeError as e:\n",
    "        print(e)"
   ]
  },
  {
   "cell_type": "code",
   "execution_count": 63,
   "id": "chubby-shooting",
   "metadata": {},
   "outputs": [],
   "source": [
    "datagen = ImageDataGenerator(rescale=1.0/255.0)"
   ]
  },
  {
   "cell_type": "markdown",
   "id": "thick-wayne",
   "metadata": {},
   "source": [
    "### LOAD DATA WITH NO AUGMENTATION\n",
    "---"
   ]
  },
  {
   "cell_type": "code",
   "execution_count": 4,
   "id": "suspended-nicaragua",
   "metadata": {},
   "outputs": [
    {
     "name": "stdout",
     "output_type": "stream",
     "text": [
      "Found 484 images belonging to 2 classes.\n",
      "Found 62 images belonging to 2 classes.\n",
      "Found 62 images belonging to 2 classes.\n"
     ]
    }
   ],
   "source": [
    "train_it = datagen.flow_from_directory('new_data/images/datagen/train/',\n",
    "\tclass_mode='binary', batch_size=4, target_size=(224, 224))\n",
    "test_it = datagen.flow_from_directory('new_data/images/datagen/test/',\n",
    "\tclass_mode='binary', batch_size=4, target_size=(224, 224))\n",
    "val_it = datagen.flow_from_directory('new_data/images/datagen/val/',\n",
    "\tclass_mode='binary', batch_size=4, shuffle=False, target_size=(224, 224))"
   ]
  },
  {
   "cell_type": "markdown",
   "id": "accomplished-sussex",
   "metadata": {},
   "source": [
    "### LOAD DATA WITH AUGMENTATION\n",
    "---"
   ]
  },
  {
   "cell_type": "code",
   "execution_count": 28,
   "id": "particular-chocolate",
   "metadata": {},
   "outputs": [],
   "source": [
    "for path_dir, dirnames, filenames in os.walk(\"new_data/images/datagen/train/no\"):\n",
    "    for file in filenames:\n",
    "        pth_img = path_dir + \"/\" + file\n",
    "        img = load_img(pth_img)\n",
    "        data = img_to_array(img)\n",
    "        samples = np.expand_dims(data, 0)\n",
    "        datagen = ImageDataGenerator(rescale=1.0/255.0, width_shift_range=[-10,10], height_shift_range=[-10, 10], horizontal_flip=True, vertical_flip=True, rotation_range=180)\n",
    "        i=0\n",
    "        for batch in datagen.flow(samples, batch_size=1,save_to_dir='new_data/images/datagen/aug_train/no', save_prefix='no', save_format='jpeg'):\n",
    "            i += 20\n",
    "            if i > 20:\n",
    "                break\n",
    "\n",
    "for path_dir, dirnames, filenames in os.walk(\"new_data/images/datagen/train/yes\"):\n",
    "    for file in filenames:\n",
    "        pth_img = path_dir + \"/\" + file\n",
    "        img = load_img(pth_img)\n",
    "        data = img_to_array(img)\n",
    "        samples = np.expand_dims(data, 0)\n",
    "        datagen = ImageDataGenerator(rescale=1.0/255.0, width_shift_range=[-10,10], height_shift_range=[-10, 10], horizontal_flip=True, vertical_flip=True, rotation_range=180)\n",
    "        i=0\n",
    "        for batch in datagen.flow(samples, batch_size=1,save_to_dir='new_data/images/datagen/aug_train/yes', save_prefix='yes', save_format='jpeg'):\n",
    "            i += 20\n",
    "            if i > 20:\n",
    "                break"
   ]
  },
  {
   "cell_type": "code",
   "execution_count": 64,
   "id": "forty-being",
   "metadata": {},
   "outputs": [
    {
     "name": "stdout",
     "output_type": "stream",
     "text": [
      "Found 947 images belonging to 2 classes.\n",
      "Found 62 images belonging to 2 classes.\n",
      "Found 62 images belonging to 2 classes.\n"
     ]
    }
   ],
   "source": [
    "train_it = datagen.flow_from_directory('new_data/images/datagen/aug_train/',\n",
    "\tclass_mode='binary', batch_size=4, target_size=(224, 224))\n",
    "test_it = datagen.flow_from_directory('new_data/images/datagen/test/',\n",
    "\tclass_mode='binary', batch_size=4, target_size=(224, 224))\n",
    "val_it = datagen.flow_from_directory('new_data/images/datagen/val/',\n",
    "\tclass_mode='binary', batch_size=4, shuffle=False, target_size=(224, 224))"
   ]
  },
  {
   "cell_type": "markdown",
   "id": "essential-investor",
   "metadata": {},
   "source": [
    "### CUSTOM CNN MODEL\n",
    "---"
   ]
  },
  {
   "cell_type": "code",
   "execution_count": 65,
   "id": "primary-trailer",
   "metadata": {},
   "outputs": [],
   "source": [
    "model = tf.keras.models.Sequential([\n",
    "# Note the input shape is the desired size of the image 224x224 with 3 bytes color\n",
    "# This is the first convolution\n",
    "tf.keras.layers.Conv2D(32, (3,3), activation='relu', kernel_initializer='he_uniform', padding='same', input_shape=(224, 224, 3)),\n",
    "tf.keras.layers.MaxPooling2D(2, 2),\n",
    "tf.keras.layers.Dropout(0.2),\n",
    "# The second convolution\n",
    "tf.keras.layers.Conv2D(64, (3,3), activation='relu', kernel_initializer='he_uniform', padding='same'),\n",
    "tf.keras.layers.MaxPooling2D(2,2),\n",
    "tf.keras.layers.Dropout(0.2),\n",
    "# The third convolution\n",
    "tf.keras.layers.Conv2D(128, (3,3), activation='relu', kernel_initializer='he_uniform', padding='same'),\n",
    "tf.keras.layers.MaxPooling2D(2,2),\n",
    "tf.keras.layers.Dropout(0.2),\n",
    "# The fourth convolution\n",
    "tf.keras.layers.Flatten(),   \n",
    "#tf.keras.layers.GlobalAveragePooling2D(),\n",
    "tf.keras.layers.Dense(128, activation='relu', kernel_initializer='he_uniform'),\n",
    "#tf.keras.layers.BatchNormalization(),\n",
    "tf.keras.layers.Dropout(0.5),\n",
    "# Only 1 output neuron. It will contain a value from 0-1 where 0 for 1 class ('healthy') and 1 for the other ('metastatic')\n",
    "tf.keras.layers.Dense(1, activation='sigmoid')])"
   ]
  },
  {
   "cell_type": "markdown",
   "id": "opponent-costa",
   "metadata": {},
   "source": [
    "### PRE-TRAINED RESNET-50 MODEL\n",
    "---"
   ]
  },
  {
   "cell_type": "code",
   "execution_count": null,
   "id": "covered-brunei",
   "metadata": {},
   "outputs": [],
   "source": [
    "from tensorflow.keras.applications.resnet50 import ResNet50\n",
    "model = tf.keras.models.Sequential()\n",
    "model.add(ResNet50(include_top=False, weights=\"imagenet\", input_shape=(224,224,3)))\n",
    "model.add(tf.keras.layers.Flatten())\n",
    "model.add(tf.keras.layers.Dense(2048))\n",
    "model.add(tf.keras.layers.Dropout(0.3))\n",
    "model.add(tf.keras.layers.Dense(512))\n",
    "model.add(tf.keras.layers.Dense(1, activation='sigmoid'))\n",
    "model.summary()"
   ]
  },
  {
   "cell_type": "code",
   "execution_count": 31,
   "id": "classical-hypothetical",
   "metadata": {},
   "outputs": [
    {
     "name": "stdout",
     "output_type": "stream",
     "text": [
      "Model: \"sequential\"\n",
      "_________________________________________________________________\n",
      "Layer (type)                 Output Shape              Param #   \n",
      "=================================================================\n",
      "conv2d (Conv2D)              (None, 224, 224, 32)      896       \n",
      "_________________________________________________________________\n",
      "max_pooling2d (MaxPooling2D) (None, 112, 112, 32)      0         \n",
      "_________________________________________________________________\n",
      "dropout (Dropout)            (None, 112, 112, 32)      0         \n",
      "_________________________________________________________________\n",
      "conv2d_1 (Conv2D)            (None, 112, 112, 64)      18496     \n",
      "_________________________________________________________________\n",
      "max_pooling2d_1 (MaxPooling2 (None, 56, 56, 64)        0         \n",
      "_________________________________________________________________\n",
      "dropout_1 (Dropout)          (None, 56, 56, 64)        0         \n",
      "_________________________________________________________________\n",
      "conv2d_2 (Conv2D)            (None, 56, 56, 128)       73856     \n",
      "_________________________________________________________________\n",
      "max_pooling2d_2 (MaxPooling2 (None, 28, 28, 128)       0         \n",
      "_________________________________________________________________\n",
      "dropout_2 (Dropout)          (None, 28, 28, 128)       0         \n",
      "_________________________________________________________________\n",
      "flatten (Flatten)            (None, 100352)            0         \n",
      "_________________________________________________________________\n",
      "dense (Dense)                (None, 128)               12845184  \n",
      "_________________________________________________________________\n",
      "dropout_3 (Dropout)          (None, 128)               0         \n",
      "_________________________________________________________________\n",
      "dense_1 (Dense)              (None, 1)                 129       \n",
      "=================================================================\n",
      "Total params: 12,938,561\n",
      "Trainable params: 12,938,561\n",
      "Non-trainable params: 0\n",
      "_________________________________________________________________\n"
     ]
    }
   ],
   "source": [
    "model.summary()"
   ]
  },
  {
   "cell_type": "markdown",
   "id": "vulnerable-constitution",
   "metadata": {},
   "source": [
    "### IMPLEMENT EARLY STOPPING \n",
    "### SPECIFY FOLDER TO SAVE BEST WEIGHTS BASED ON LOWEST VALIDATION LOSS\n",
    "---"
   ]
  },
  {
   "cell_type": "code",
   "execution_count": 66,
   "id": "trying-stake",
   "metadata": {},
   "outputs": [],
   "source": [
    "from tensorflow.python.keras.callbacks import EarlyStopping, ModelCheckpoint\n",
    "\n",
    "es = EarlyStopping(monitor='val_loss', mode='min', verbose=1, patience=30)\n",
    "\n",
    "mc=ModelCheckpoint('./weights', monitor='val_loss', mode='min', verbose=1, save_best_only=True, save_freq='epoch')\n",
    "cb_list=[es, mc]"
   ]
  },
  {
   "cell_type": "markdown",
   "id": "constant-gibson",
   "metadata": {},
   "source": [
    "### COMPILE MODEL\n",
    "### LOSS: BINARY CROSS ENTROPY, OPTIMIZER: ADAM\n",
    "---"
   ]
  },
  {
   "cell_type": "code",
   "execution_count": 67,
   "id": "strategic-stopping",
   "metadata": {},
   "outputs": [],
   "source": [
    "model.compile(loss='binary_crossentropy', optimizer='adam', metrics=['accuracy'])"
   ]
  },
  {
   "cell_type": "markdown",
   "id": "criminal-heather",
   "metadata": {},
   "source": [
    "### LOAD WEIGHTS IF WEIGHTS ARE SAVED IN THE \"weights\" FOLDER\n",
    "---"
   ]
  },
  {
   "cell_type": "code",
   "execution_count": 59,
   "id": "disabled-samuel",
   "metadata": {},
   "outputs": [],
   "source": [
    "from tensorflow.keras.models import load_model\n",
    "model_load = load_model('weights')\n",
    "history_load = model_load.fit(new_train_it, steps_per_epoch=len(new_train_it), validation_data=val_it, validation_steps=len(val_it), epochs=30, callbacks=cb_list)"
   ]
  },
  {
   "cell_type": "markdown",
   "id": "realistic-honor",
   "metadata": {},
   "source": [
    "### OTHERWISE TRAIN FROM SCRATCH \n",
    "---"
   ]
  },
  {
   "cell_type": "code",
   "execution_count": 68,
   "id": "nonprofit-deposit",
   "metadata": {
    "collapsed": true,
    "jupyter": {
     "outputs_hidden": true
    }
   },
   "outputs": [
    {
     "name": "stdout",
     "output_type": "stream",
     "text": [
      "Epoch 1/30\n",
      "234/237 [============================>.] - ETA: 0s - loss: 1.6166 - accuracy: 0.4684\n",
      "Epoch 00001: saving model to ./weights\n",
      "INFO:tensorflow:Assets written to: ./weights\\assets\n",
      "237/237 [==============================] - 5s 22ms/step - loss: 1.6048 - accuracy: 0.4688 - val_loss: 0.6931 - val_accuracy: 0.4839\n",
      "Epoch 2/30\n",
      "235/237 [============================>.] - ETA: 0s - loss: 0.6947 - accuracy: 0.4995\n",
      "Epoch 00002: saving model to ./weights\n",
      "INFO:tensorflow:Assets written to: ./weights\\assets\n",
      "237/237 [==============================] - 5s 21ms/step - loss: 0.6948 - accuracy: 0.4974 - val_loss: 0.6922 - val_accuracy: 0.5161\n",
      "Epoch 3/30\n",
      "237/237 [==============================] - ETA: 0s - loss: 0.6960 - accuracy: 0.5269\n",
      "Epoch 00003: saving model to ./weights\n",
      "INFO:tensorflow:Assets written to: ./weights\\assets\n",
      "237/237 [==============================] - 5s 21ms/step - loss: 0.6960 - accuracy: 0.5269 - val_loss: 0.6911 - val_accuracy: 0.5161\n",
      "Epoch 4/30\n",
      "234/237 [============================>.] - ETA: 0s - loss: 0.6920 - accuracy: 0.5775\n",
      "Epoch 00004: saving model to ./weights\n",
      "INFO:tensorflow:Assets written to: ./weights\\assets\n",
      "237/237 [==============================] - 5s 21ms/step - loss: 0.6912 - accuracy: 0.5776 - val_loss: 0.6918 - val_accuracy: 0.5323\n",
      "Epoch 5/30\n",
      "237/237 [==============================] - ETA: 0s - loss: 0.6660 - accuracy: 0.5818\n",
      "Epoch 00005: saving model to ./weights\n",
      "INFO:tensorflow:Assets written to: ./weights\\assets\n",
      "237/237 [==============================] - 6s 24ms/step - loss: 0.6660 - accuracy: 0.5818 - val_loss: 0.7180 - val_accuracy: 0.5161\n",
      "Epoch 6/30\n",
      "237/237 [==============================] - ETA: 0s - loss: 0.6530 - accuracy: 0.6051\n",
      "Epoch 00006: saving model to ./weights\n",
      "INFO:tensorflow:Assets written to: ./weights\\assets\n",
      "237/237 [==============================] - 6s 27ms/step - loss: 0.6530 - accuracy: 0.6051 - val_loss: 0.9021 - val_accuracy: 0.4516\n",
      "Epoch 7/30\n",
      "236/237 [============================>.] - ETA: 0s - loss: 0.6037 - accuracy: 0.6320\n",
      "Epoch 00007: saving model to ./weights\n",
      "INFO:tensorflow:Assets written to: ./weights\\assets\n",
      "237/237 [==============================] - 6s 26ms/step - loss: 0.6029 - accuracy: 0.6315 - val_loss: 0.9773 - val_accuracy: 0.4516\n",
      "Epoch 8/30\n",
      "234/237 [============================>.] - ETA: 0s - loss: 0.6022 - accuracy: 0.6717\n",
      "Epoch 00008: saving model to ./weights\n",
      "INFO:tensorflow:Assets written to: ./weights\\assets\n",
      "237/237 [==============================] - 6s 26ms/step - loss: 0.6012 - accuracy: 0.6695 - val_loss: 1.0704 - val_accuracy: 0.5161\n",
      "Epoch 9/30\n",
      "235/237 [============================>.] - ETA: 0s - loss: 0.5033 - accuracy: 0.7338\n",
      "Epoch 00009: saving model to ./weights\n",
      "INFO:tensorflow:Assets written to: ./weights\\assets\n",
      "237/237 [==============================] - 5s 22ms/step - loss: 0.5044 - accuracy: 0.7318 - val_loss: 1.1149 - val_accuracy: 0.4677\n",
      "Epoch 10/30\n",
      "235/237 [============================>.] - ETA: 0s - loss: 0.4424 - accuracy: 0.7796\n",
      "Epoch 00010: saving model to ./weights\n",
      "INFO:tensorflow:Assets written to: ./weights\\assets\n",
      "237/237 [==============================] - 5s 22ms/step - loss: 0.4412 - accuracy: 0.7804 - val_loss: 1.2510 - val_accuracy: 0.4839\n",
      "Epoch 11/30\n",
      "234/237 [============================>.] - ETA: 0s - loss: 0.3622 - accuracy: 0.8332\n",
      "Epoch 00011: saving model to ./weights\n",
      "INFO:tensorflow:Assets written to: ./weights\\assets\n",
      "237/237 [==============================] - 5s 21ms/step - loss: 0.3606 - accuracy: 0.8353 - val_loss: 1.8365 - val_accuracy: 0.5000\n",
      "Epoch 12/30\n",
      "237/237 [==============================] - ETA: 0s - loss: 0.2811 - accuracy: 0.8796\n",
      "Epoch 00012: saving model to ./weights\n",
      "INFO:tensorflow:Assets written to: ./weights\\assets\n",
      "237/237 [==============================] - 5s 21ms/step - loss: 0.2811 - accuracy: 0.8796 - val_loss: 2.6429 - val_accuracy: 0.5161\n",
      "Epoch 13/30\n",
      "236/237 [============================>.] - ETA: 0s - loss: 0.2650 - accuracy: 0.8971\n",
      "Epoch 00013: saving model to ./weights\n",
      "INFO:tensorflow:Assets written to: ./weights\\assets\n",
      "237/237 [==============================] - 5s 21ms/step - loss: 0.2648 - accuracy: 0.8976 - val_loss: 3.4761 - val_accuracy: 0.4516\n",
      "Epoch 14/30\n",
      "234/237 [============================>.] - ETA: 0s - loss: 0.1918 - accuracy: 0.9294\n",
      "Epoch 00014: saving model to ./weights\n",
      "INFO:tensorflow:Assets written to: ./weights\\assets\n",
      "237/237 [==============================] - 5s 21ms/step - loss: 0.1938 - accuracy: 0.9271 - val_loss: 3.7130 - val_accuracy: 0.4677\n",
      "Epoch 15/30\n",
      "235/237 [============================>.] - ETA: 0s - loss: 0.1410 - accuracy: 0.9404\n",
      "Epoch 00015: saving model to ./weights\n",
      "INFO:tensorflow:Assets written to: ./weights\\assets\n",
      "237/237 [==============================] - 5s 21ms/step - loss: 0.1399 - accuracy: 0.9409 - val_loss: 4.6030 - val_accuracy: 0.4516\n",
      "Epoch 16/30\n",
      "235/237 [============================>.] - ETA: 0s - loss: 0.1472 - accuracy: 0.9542\n",
      "Epoch 00016: saving model to ./weights\n",
      "INFO:tensorflow:Assets written to: ./weights\\assets\n",
      "237/237 [==============================] - 5s 21ms/step - loss: 0.1477 - accuracy: 0.9535 - val_loss: 4.5288 - val_accuracy: 0.4516\n",
      "Epoch 17/30\n",
      "235/237 [============================>.] - ETA: 0s - loss: 0.1239 - accuracy: 0.9553\n",
      "Epoch 00017: saving model to ./weights\n",
      "INFO:tensorflow:Assets written to: ./weights\\assets\n",
      "237/237 [==============================] - 5s 22ms/step - loss: 0.1236 - accuracy: 0.9556 - val_loss: 4.8247 - val_accuracy: 0.5161\n",
      "Epoch 18/30\n",
      "236/237 [============================>.] - ETA: 0s - loss: 0.1902 - accuracy: 0.9608\n",
      "Epoch 00018: saving model to ./weights\n",
      "INFO:tensorflow:Assets written to: ./weights\\assets\n",
      "237/237 [==============================] - 7s 28ms/step - loss: 0.1908 - accuracy: 0.9599 - val_loss: 5.5068 - val_accuracy: 0.4516\n",
      "Epoch 19/30\n",
      "236/237 [============================>.] - ETA: 0s - loss: 0.0707 - accuracy: 0.9820\n",
      "Epoch 00019: saving model to ./weights\n",
      "INFO:tensorflow:Assets written to: ./weights\\assets\n",
      "237/237 [==============================] - 6s 27ms/step - loss: 0.0704 - accuracy: 0.9820 - val_loss: 5.5952 - val_accuracy: 0.5000\n",
      "Epoch 20/30\n",
      "234/237 [============================>.] - ETA: 0s - loss: 0.0976 - accuracy: 0.9807\n",
      "Epoch 00020: saving model to ./weights\n",
      "INFO:tensorflow:Assets written to: ./weights\\assets\n",
      "237/237 [==============================] - 7s 28ms/step - loss: 0.0972 - accuracy: 0.9810 - val_loss: 4.7342 - val_accuracy: 0.5000\n",
      "Epoch 21/30\n",
      "237/237 [==============================] - ETA: 0s - loss: 0.1688 - accuracy: 0.9556\n",
      "Epoch 00021: saving model to ./weights\n",
      "INFO:tensorflow:Assets written to: ./weights\\assets\n",
      "237/237 [==============================] - 6s 27ms/step - loss: 0.1688 - accuracy: 0.9556 - val_loss: 3.7826 - val_accuracy: 0.5323\n",
      "Epoch 22/30\n",
      "237/237 [==============================] - ETA: 0s - loss: 0.0988 - accuracy: 0.9704\n",
      "Epoch 00022: saving model to ./weights\n",
      "INFO:tensorflow:Assets written to: ./weights\\assets\n",
      "237/237 [==============================] - 5s 21ms/step - loss: 0.0988 - accuracy: 0.9704 - val_loss: 5.1906 - val_accuracy: 0.4516\n",
      "Epoch 23/30\n",
      "236/237 [============================>.] - ETA: 0s - loss: 0.0988 - accuracy: 0.9735\n",
      "Epoch 00023: saving model to ./weights\n",
      "INFO:tensorflow:Assets written to: ./weights\\assets\n",
      "237/237 [==============================] - 5s 21ms/step - loss: 0.0985 - accuracy: 0.9736 - val_loss: 5.2979 - val_accuracy: 0.4839\n",
      "Epoch 24/30\n",
      "237/237 [==============================] - ETA: 0s - loss: 0.0336 - accuracy: 0.9916\n",
      "Epoch 00024: saving model to ./weights\n",
      "INFO:tensorflow:Assets written to: ./weights\\assets\n",
      "237/237 [==============================] - 5s 22ms/step - loss: 0.0336 - accuracy: 0.9916 - val_loss: 5.0218 - val_accuracy: 0.4355\n",
      "Epoch 25/30\n",
      "236/237 [============================>.] - ETA: 0s - loss: 0.0231 - accuracy: 0.9947\n",
      "Epoch 00025: saving model to ./weights\n",
      "INFO:tensorflow:Assets written to: ./weights\\assets\n",
      "237/237 [==============================] - 5s 21ms/step - loss: 0.0235 - accuracy: 0.9947 - val_loss: 4.4019 - val_accuracy: 0.4839\n",
      "Epoch 26/30\n",
      "237/237 [==============================] - ETA: 0s - loss: 0.1090 - accuracy: 0.9852\n",
      "Epoch 00026: saving model to ./weights\n",
      "INFO:tensorflow:Assets written to: ./weights\\assets\n",
      "237/237 [==============================] - 5s 22ms/step - loss: 0.1090 - accuracy: 0.9852 - val_loss: 2.9274 - val_accuracy: 0.4355\n",
      "Epoch 27/30\n",
      "234/237 [============================>.] - ETA: 0s - loss: 0.0550 - accuracy: 0.9797\n",
      "Epoch 00027: saving model to ./weights\n",
      "INFO:tensorflow:Assets written to: ./weights\\assets\n",
      "237/237 [==============================] - 5s 21ms/step - loss: 0.0548 - accuracy: 0.9799 - val_loss: 5.6418 - val_accuracy: 0.4677\n",
      "Epoch 28/30\n",
      "234/237 [============================>.] - ETA: 0s - loss: 0.0631 - accuracy: 0.9850\n",
      "Epoch 00028: saving model to ./weights\n",
      "INFO:tensorflow:Assets written to: ./weights\\assets\n",
      "237/237 [==============================] - 5s 21ms/step - loss: 0.0623 - accuracy: 0.9852 - val_loss: 6.6217 - val_accuracy: 0.4677\n",
      "Epoch 29/30\n",
      "236/237 [============================>.] - ETA: 0s - loss: 0.0512 - accuracy: 0.9873\n",
      "Epoch 00029: saving model to ./weights\n",
      "INFO:tensorflow:Assets written to: ./weights\\assets\n",
      "237/237 [==============================] - 5s 21ms/step - loss: 0.0513 - accuracy: 0.9873 - val_loss: 6.1587 - val_accuracy: 0.4516\n",
      "Epoch 30/30\n",
      "237/237 [==============================] - ETA: 0s - loss: 0.0283 - accuracy: 0.9926\n",
      "Epoch 00030: saving model to ./weights\n",
      "INFO:tensorflow:Assets written to: ./weights\\assets\n",
      "237/237 [==============================] - 5s 22ms/step - loss: 0.0283 - accuracy: 0.9926 - val_loss: 6.5313 - val_accuracy: 0.4355\n"
     ]
    }
   ],
   "source": [
    "history = model.fit(train_it, steps_per_epoch=len(train_it), validation_data=val_it, validation_steps=len(val_it), epochs=30, callbacks=cb_list)"
   ]
  },
  {
   "cell_type": "markdown",
   "id": "needed-mirror",
   "metadata": {},
   "source": [
    "### PLOT ACCURACY\n",
    "---"
   ]
  },
  {
   "cell_type": "code",
   "execution_count": 70,
   "id": "spectacular-panama",
   "metadata": {},
   "outputs": [
    {
     "data": {
      "image/png": "[encoded data removed]",
      "text/plain": [
       "<Figure size 432x288 with 1 Axes>"
      ]
     },
     "metadata": {
      "needs_background": "light"
     },
     "output_type": "display_data"
    }
   ],
   "source": [
    "plt.plot(history.history['accuracy'])\n",
    "plt.plot(history.history['val_accuracy'])\n",
    "plt.title('model accuracy')\n",
    "plt.ylabel('accuracy')\n",
    "plt.xlabel('epoch')\n",
    "plt.legend(['train', 'val'], loc='upper left')\n",
    "#plt.legend(['train'], loc='upper left')\n",
    "plt.show()"
   ]
  },
  {
   "cell_type": "markdown",
   "id": "desperate-internet",
   "metadata": {},
   "source": [
    "### PLOT LOSS\n",
    "---"
   ]
  },
  {
   "cell_type": "code",
   "execution_count": 71,
   "id": "future-brooklyn",
   "metadata": {},
   "outputs": [
    {
     "data": {
      "image/png": "[encoded data removed]",
      "text/plain": [
       "<Figure size 432x288 with 1 Axes>"
      ]
     },
     "metadata": {
      "needs_background": "light"
     },
     "output_type": "display_data"
    }
   ],
   "source": [
    "plt.plot(history.history['loss'])\n",
    "plt.plot(history.history['val_loss'])\n",
    "plt.title('model loss')\n",
    "plt.ylabel('loss')\n",
    "plt.xlabel('epoch')\n",
    "plt.legend(['train', 'val'], loc='upper left')\n",
    "#plt.legend(['train'], loc='upper left')\n",
    "plt.show()"
   ]
  },
  {
   "cell_type": "markdown",
   "id": "clinical-technical",
   "metadata": {},
   "source": [
    "### MAKE PREDICTIONS ON TEST SET AND EVALUATE TEST ACCURACY\n",
    "---"
   ]
  },
  {
   "cell_type": "code",
   "execution_count": 72,
   "id": "fossil-glass",
   "metadata": {},
   "outputs": [
    {
     "name": "stdout",
     "output_type": "stream",
     "text": [
      "16/16 [==============================] - 0s 6ms/step - loss: 4.1199 - accuracy: 0.5806\n",
      "['loss', 'accuracy']\n",
      "test loss, test acc: [4.119940280914307, 0.5806451439857483]\n"
     ]
    }
   ],
   "source": [
    "evaluate = model.evaluate(test_it, verbose=1)\n",
    "pred = model.predict(test_it)\n",
    "print(model.metrics_names)\n",
    "print(\"test loss, test acc:\", evaluate)\n",
    "print(pred)"
   ]
  },
  {
   "cell_type": "markdown",
   "id": "light-leone",
   "metadata": {},
   "source": [
    "### PLOT AUC CURVE\n",
    "---"
   ]
  },
  {
   "cell_type": "code",
   "execution_count": 73,
   "id": "related-tonight",
   "metadata": {},
   "outputs": [
    {
     "data": {
      "image/png": "[encoded data removed]",
      "text/plain": [
       "<Figure size 432x288 with 1 Axes>"
      ]
     },
     "metadata": {
      "needs_background": "light"
     },
     "output_type": "display_data"
    }
   ],
   "source": [
    "from sklearn.metrics import roc_curve, auc\n",
    "fpr, tpr, _ = roc_curve(test_it.labels, pred)\n",
    "roc_auc = auc(fpr, tpr)\n",
    "plt.figure()\n",
    "lw = 2\n",
    "plt.plot(fpr, tpr, color='darkorange',\n",
    "lw=lw, label='ROC curve (area = %0.2f)' % roc_auc)\n",
    "plt.plot([0, 1], [0, 1], color='navy', lw=lw, linestyle='--')\n",
    "plt.xlim([0.0, 1.0])\n",
    "plt.ylim([0.0, 1.05])\n",
    "plt.xlabel('False Positive Rate')\n",
    "plt.ylabel('True Positive Rate')\n",
    "plt.title('ROC Curve')\n",
    "plt.legend(loc=\"lower right\")\n",
    "plt.show()"
   ]
  },
  {
   "cell_type": "markdown",
   "id": "related-blackberry",
   "metadata": {},
   "source": [
    "### OTHER PERFORMANCE METRICS REQUESTED BY DR. AMBER SIMPSON\n",
    "---"
   ]
  },
  {
   "cell_type": "code",
   "execution_count": null,
   "id": "polished-potato",
   "metadata": {},
   "outputs": [],
   "source": [
    "def ppv(y_true, y_pred):\n",
    "    cm = confusion_matrix(y_true, y_pred)\n",
    "    tn, fp, fn, tp = cm.ravel()\n",
    "    \n",
    "    if tp + fp == 0:\n",
    "        print(\"Warning: All predictions negative\")\n",
    "        return 0\n",
    "    \n",
    "    return tp / (tp + fp)\n",
    "\n",
    " \n",
    "\n",
    "def npv(y_true, y_pred):\n",
    "    cm = confusion_matrix(y_true, y_pred)\n",
    "    tn, fp, fn, tp = cm.ravel()\n",
    "    \n",
    "    if tn + fn == 0:\n",
    "        print(\"Warning: All predictions positive\")\n",
    "        return 0\n",
    "    \n",
    "    return tn / (tn + fn)\n",
    "\n",
    "def specificity(y_true, y_pred):\n",
    "    cm = confusion_matrix(y_true, y_pred)\n",
    "    tn, fp, fn, tp = cm.ravel()\n",
    "    \n",
    "    return tn / (tn + fp)\n",
    "\n",
    " \n",
    "def sensitivity(y_true, y_pred):\n",
    "    cm = confusion_matrix(y_true, y_pred)\n",
    "    tn, fp, fn, tp = cm.ravel()\n",
    "    \n",
    "    return tp / (tp + fn)"
   ]
  },
  {
   "cell_type": "code",
   "execution_count": null,
   "id": "crazy-directory",
   "metadata": {},
   "outputs": [],
   "source": [
    "ppv = ppv(y_test, pred)\n",
    "print(ppv)\n",
    "\n",
    "npv = npv(y_test, pred)\n",
    "print(npv)\n",
    "\n",
    "sen = sensitivity(y_test, pred)\n",
    "print(sen)\n",
    "\n",
    "spe = specificity(y_test, pred)\n",
    "print(spe)"
   ]
  },
  {
   "cell_type": "markdown",
   "id": "constant-saturday",
   "metadata": {},
   "source": [
    "### USE GRAD CAM TO UNDERSTAND WHERE THE CNN IS FOCUSING ON IN THE IMAGE\n",
    "---"
   ]
  },
  {
   "cell_type": "code",
   "execution_count": null,
   "id": "imperial-brook",
   "metadata": {},
   "outputs": [],
   "source": [
    "o = 1-(model.layers[-1].output)\n",
    "model2 = Model(inputs=model.input, outputs=[o])\n",
    "model2.summary()"
   ]
  },
  {
   "cell_type": "code",
   "execution_count": null,
   "id": "played-channels",
   "metadata": {},
   "outputs": [],
   "source": [
    "# import the necessary packages\n",
    "from tensorflow.keras.models import Model\n",
    "import tensorflow as tf\n",
    "import numpy as np\n",
    "import cv2\n",
    "from tensorflow.keras.layers import *\n",
    "import tensorflow.keras.backend as K\n",
    "\n",
    "class GradCAM:\n",
    "    \n",
    "    def __init__(self, model, classIdx, layerName=None):\n",
    "        # store the model, the class index used to measure the class\n",
    "        # activation map, and the layer to be used when visualizing\n",
    "        # the class activation map\n",
    "        self.model = model\n",
    "        self.classIdx = classIdx\n",
    "        self.layerName = layerName\n",
    "        # if the layer name is None, attempt to automatically find\n",
    "        # the target output layer\n",
    "        if self.layerName is None:\n",
    "            self.layerName = self.find_target_layer()\n",
    "    \n",
    "    def find_target_layer(self):\n",
    "        # attempt to find the final convolutional layer in the network\n",
    "        # by looping over the layers of the network in reverse order\n",
    "        for layer in reversed(self.model.layers):\n",
    "            # check to see if the layer has a 4D output\n",
    "            if len(layer.output_shape) == 4:\n",
    "                return layer.name\n",
    "        # otherwise, we could not find a 4D layer so the GradCAM\n",
    "        # algorithm cannot be applied\n",
    "        raise ValueError(\"Could not find 4D layer. Cannot apply GradCAM.\")\n",
    "    \n",
    "    def compute_heatmap(self, image, eps=1e-8):\n",
    "\t\t# construct our gradient model by supplying (1) the inputs\n",
    "\t\t# to our pre-trained model, (2) the output of the (presumably)\n",
    "\t\t# final 4D layer in the network, and (3) the output of the\n",
    "\t\t# softmax activations from the model\n",
    "        gradModel = Model(inputs=[self.model.inputs],outputs=[self.model.get_layer(self.layerName).output,self.model.output])\n",
    "        with tf.GradientTape() as tape:\n",
    "            # cast the image tensor to a float-32 data type, pass the\n",
    "            # image through the gradient model, and grab the loss\n",
    "            # associated with the specific class index\n",
    "            inputs = tf.cast(image, tf.float32)\n",
    "            (convOutputs, predictions) = gradModel(inputs)\n",
    "            print(predictions)\n",
    "            print(self.classIdx)\n",
    "            print(predictions[:, self.classIdx])\n",
    "            loss = predictions[:, self.classIdx]\n",
    "            print(loss)\n",
    "        # use automatic differentiation to compute the gradients\n",
    "        grads = tape.gradient(loss, convOutputs)\n",
    "        # compute the guided gradients\n",
    "        castConvOutputs = tf.cast(convOutputs > 0, \"float32\")\n",
    "        castGrads = tf.cast(grads > 0, \"float32\")\n",
    "        guidedGrads = castConvOutputs * castGrads * grads\n",
    "        # the convolution and guided gradients have a batch dimension\n",
    "        # (which we don't need) so let's grab the volume itself and\n",
    "        # discard the batch\n",
    "        convOutputs = convOutputs[0]\n",
    "        guidedGrads = guidedGrads[0]\n",
    "        # compute the average of the gradient values, and using them\n",
    "        # as weights, compute the ponderation of the filters with\n",
    "        # respect to the weights\n",
    "        weights = tf.reduce_mean(guidedGrads, axis=(0, 1))\n",
    "        cam = tf.reduce_sum(tf.multiply(weights, convOutputs), axis=-1)\n",
    "        # grab the spatial dimensions of the input image and resize\n",
    "        # the output class activation map to match the input image\n",
    "        # dimensions\n",
    "        (w, h) = (image.shape[2], image.shape[1])\n",
    "        heatmap = cv2.resize(cam.numpy(), (w, h))\n",
    "        # normalize the heatmap such that all values lie in the range\n",
    "        # [0, 1], scale the resulting values to the range [0, 255],\n",
    "        # and then convert to an unsigned 8-bit integer\n",
    "        numer = heatmap - np.min(heatmap)\n",
    "        denom = (heatmap.max() - heatmap.min()) + eps\n",
    "        heatmap = numer / denom\n",
    "        heatmap = (heatmap * 255).astype(\"uint8\")\n",
    "        # return the resulting heatmap to the calling function\n",
    "        return heatmap\n",
    "\n",
    "    def overlay_heatmap(self, heatmap, image, alpha=0.5,colormap=cv2.COLORMAP_VIRIDIS):\n",
    "        # apply the supplied color map to the heatmap and then\n",
    "        # overlay the heatmap on the input image\n",
    "        heatmap = cv2.applyColorMap(heatmap, colormap)\n",
    "        output = cv2.addWeighted(image, alpha, heatmap, 1 - alpha, 0)\n",
    "        # return a 2-tuple of the color mapped heatmap and the output,\n",
    "        # overlaid image\n",
    "        return (heatmap, output)\n",
    "\n",
    "for i in range(len(X_test)):\n",
    "    orig = X_test[i]\n",
    "    image = np.expand_dims(X_test[i], axis=0)\n",
    "    pred=model.predict(image)\n",
    "#     if pred<0.5:\n",
    "#         c=0\n",
    "#     else:\n",
    "#         c=1\n",
    "#     cam = GradCAM(model, 0)\n",
    "    if pred>0.5:\n",
    "        cam = GradCAM(model2, 0)\n",
    "    else:\n",
    "        cam = GradCAM(model, 0)\n",
    "\n",
    "    heatmap = cam.compute_heatmap(image)\n",
    "    print(heatmap.shape)\n",
    "    print(image.shape)\n",
    "    heatmap = cv2.resize(heatmap, (217, 217))\n",
    "    (heatmap, output) = cam.overlay_heatmap(heatmap, orig, alpha=0.5)\n",
    "    # draw the predicted label on the output image\n",
    "    #cv2.rectangle(output, (0, 0), (340, 40), (0, 0, 0), -1)\n",
    "    # display the original image and resulting heatmap and output image\n",
    "    # to our screen\n",
    "    output = np.vstack([orig, heatmap, masks[i]])\n",
    "    %matplotlib inline\n",
    "    plt.figure(figsize = (15,15))\n",
    "    plt.imshow(output)\n",
    "    plt.show()"
   ]
  },
  {
   "cell_type": "markdown",
   "id": "flexible-convert",
   "metadata": {},
   "source": [
    "### EXTRA FUNCTIONS FOR DR. CHRISTIAN\n",
    "---"
   ]
  },
  {
   "cell_type": "code",
   "execution_count": null,
   "id": "recreational-buying",
   "metadata": {},
   "outputs": [],
   "source": [
    "pred_class = []\n",
    "for i in range(len(pred)):\n",
    "    if pred[i][0]<0.5:\n",
    "        pred_class.append(int(0))\n",
    "    else:\n",
    "        pred_class.append(int(1))"
   ]
  },
  {
   "cell_type": "code",
   "execution_count": null,
   "id": "experienced-image",
   "metadata": {},
   "outputs": [],
   "source": [
    "print(len(pred_class))\n",
    "print(len(val_it.labels))\n",
    "print(pred_class)\n",
    "print(val_it.labels)"
   ]
  },
  {
   "cell_type": "code",
   "execution_count": null,
   "id": "completed-recommendation",
   "metadata": {},
   "outputs": [],
   "source": [
    "pred_diff = []\n",
    "for i in range(len(pred)):\n",
    "    if val_it.labels[i]==0:\n",
    "        pred_diff.append(abs(pred[i][0] - 0))\n",
    "    else:\n",
    "        pred_class.append(abs(pred[i][0] - 1))\n",
    "print(pred_diff)"
   ]
  },
  {
   "cell_type": "code",
   "execution_count": null,
   "id": "peaceful-opening",
   "metadata": {},
   "outputs": [],
   "source": [
    "correct=0\n",
    "incorrect=0\n",
    "for i in range(len(pred_class)):\n",
    "    if pred_class[i] == val_it.labels[i]:\n",
    "        correct+=1\n",
    "    else:\n",
    "        incorrect+=1\n",
    "print(correct)\n",
    "print(incorrect)"
   ]
  },
  {
   "cell_type": "code",
   "execution_count": null,
   "id": "sticky-experiment",
   "metadata": {},
   "outputs": [],
   "source": [
    "val_it.filenames"
   ]
  },
  {
   "cell_type": "code",
   "execution_count": null,
   "id": "extensive-source",
   "metadata": {},
   "outputs": [],
   "source": [
    "new_train_it = datagen.flow_from_directory('new_data/images/datagen/wrong/',\n",
    "\tclass_mode='binary', batch_size=4, target_size=(224, 224))"
   ]
  }
 ],
 "metadata": {
  "kernelspec": {
   "display_name": "Python 3",
   "language": "python",
   "name": "python3"
  },
  "language_info": {
   "codemirror_mode": {
    "name": "ipython",
    "version": 3
   },
   "file_extension": ".py",
   "mimetype": "text/x-python",
   "name": "python",
   "nbconvert_exporter": "python",
   "pygments_lexer": "ipython3",
   "version": "3.7.7"
  }
 },
 "nbformat": 4,
 "nbformat_minor": 5
}
